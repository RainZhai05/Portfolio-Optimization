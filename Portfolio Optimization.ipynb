{
 "cells": [
  {
   "cell_type": "code",
   "execution_count": 19,
   "id": "e21e68ec",
   "metadata": {},
   "outputs": [
    {
     "name": "stdout",
     "output_type": "stream",
     "text": [
      "Objective Value : 378862.2112566008\n",
      "Amount of money to put in stocks => \n",
      "[-9.555006229546065e-9, 2815.9356749106623, 2233.9145404882706, -9.961391947247848e-9, 4950.149884620361]\n",
      "Covariance Data Table\n"
     ]
    },
    {
     "data": {
      "text/plain": [
       "5×5 Matrix{Float64}:\n",
       " 0.00260376    0.000524434  0.000466804  0.00189204   0.00142947\n",
       " 0.000524434   0.00645337   0.000973394  0.00143212  -0.000633407\n",
       " 0.000466804   0.000973394  0.0147149    0.0167681    0.00588292\n",
       " 0.00189204    0.00143212   0.0167681    0.0316725    0.00716788\n",
       " 0.00142947   -0.000633407  0.00588292   0.00716788   0.00528733"
      ]
     },
     "execution_count": 19,
     "metadata": {},
     "output_type": "execute_result"
    }
   ],
   "source": [
    "# Model for May 2020 to May 2021\n",
    "\n",
    "\n",
    "# Import Libraries\n",
    "using JuMP\n",
    "import Ipopt, Statistics\n",
    "using CSV, DataFrames\n",
    "\n",
    "# Creating the dataset\n",
    "stock_data = [\n",
    "    140.35\t122.12\t51.67\t145.85\t91.91;\n",
    "    133.60\t137.94\t61.23\t183.30\t88.84;\n",
    "    138.48\t158.23\t55.83\t158.00\t91.28;\n",
    "    145.75\t172.55\t61.98\t171.82\t95.55;\n",
    "    142.38\t157.44\t59.09\t165.26\t91.81;\n",
    "    131.13\t151.81\t57.38\t144.39\t93.5;\n",
    "    138.37\t158.40\t76.83\t210.71\t113.47;\n",
    "    151.56\t162.85\t79.36\t214.06\t122.31;\n",
    "    157.10\t160.31\t87.84\t194.19\t123.85;\n",
    "    152.60\t154.65\t106.73\t212.01\t142.68;\n",
    "    159.26\t154.70\t107.54\t254.72\t147.59;\n",
    "    157.69\t173.37\t115.07\t234.31\t149.12;\n",
    "    164.01\t161.15\t122.82\t247.02\t160.17;\n",
    "]\n",
    "\n",
    "# Calculate monthly returns\n",
    "stock_returns = Array{Float64}(undef, 12, 5) \n",
    "\n",
    "for i in 1:12 \n",
    "    stock_returns[i, :] = (stock_data[i + 1, :] .- stock_data[i, :]) ./ stock_data[i, :] \n",
    "end \n",
    "\n",
    "# Obtain the random variable r denoting returns, and the covariance matrix, Q.\n",
    "r = Statistics.mean(stock_returns, dims = 1)\n",
    "Q = Statistics.cov(stock_returns)\n",
    "\n",
    "# Solvers\n",
    "# Ipopt Optimizer\n",
    "portfolio = Model(Ipopt.Optimizer)\n",
    "\n",
    "#Suppress unnecessary output, while solver works through different combinations#\n",
    "set_silent(portfolio)\n",
    "\n",
    "#Objective function & and constraints#\n",
    "@variable(portfolio, x[1:5] >= 0)\n",
    "@objective(portfolio, Min, x' * Q * x)\n",
    "@constraint(portfolio, sum(x) <= 10000)\n",
    "@constraint(portfolio, sum(r[i] * x[i] for i = 1:5) >= 500)\n",
    "optimize!(portfolio)\n",
    "\n",
    "#Solutions\n",
    "println(\"Objective Value : \", objective_value(portfolio))\n",
    "println(\"Amount of money to put in stocks => \")\n",
    "println(value.(x))\n",
    "println(\"Covariance Data Table\")\n",
    "Q\n"
   ]
  },
  {
   "cell_type": "code",
   "execution_count": 20,
   "id": "63b5ac22",
   "metadata": {},
   "outputs": [
    {
     "data": {
      "text/plain": [
       "12×5 Matrix{Float64}:\n",
       " -0.0480941    0.129545      0.18502      0.256771   -0.0334022\n",
       "  0.0365269    0.147093     -0.0881921   -0.138025    0.0274651\n",
       "  0.0524986    0.0905012     0.110156     0.0874684   0.0467791\n",
       " -0.0231218   -0.0875688    -0.0466279   -0.0381795  -0.0391418\n",
       " -0.0790139   -0.0357597    -0.0289389   -0.126286    0.0184076\n",
       "  0.0552124    0.0434095     0.338968     0.459312    0.213583\n",
       "  0.0953241    0.0280934     0.0329298    0.0158986   0.0779061\n",
       "  0.0365532   -0.0155972     0.106855    -0.0928244   0.012591\n",
       " -0.0286442   -0.0353066     0.21505      0.0917658   0.152039\n",
       "  0.0436435    0.000323311   0.00758924   0.201453    0.0344127\n",
       " -0.00985809   0.120685      0.0700205   -0.0801272   0.0103666\n",
       "  0.0400786   -0.0704851     0.0673503    0.0542444   0.0741014"
      ]
     },
     "execution_count": 20,
     "metadata": {},
     "output_type": "execute_result"
    }
   ],
   "source": [
    "stock_returns"
   ]
  },
  {
   "cell_type": "code",
   "execution_count": 21,
   "id": "62b39f47",
   "metadata": {},
   "outputs": [
    {
     "name": "stdout",
     "output_type": "stream",
     "text": [
      "Objective Value : 756750.0137319677\n",
      "Amount of money to put in stocks => \n",
      "[-9.940787550933709e-9, 10000.00010003986, -9.98960744217007e-9, -9.98910138107974e-9, -9.969875433730646e-9]\n",
      "Covariance Data Table\n"
     ]
    },
    {
     "data": {
      "text/plain": [
       "5×5 Matrix{Float64}:\n",
       " 0.00405876   0.00449435   0.005192     0.00228158   0.00313015\n",
       " 0.00449435   0.0075675    0.00521618  -0.000750623  0.00176713\n",
       " 0.005192     0.00521618   0.0319115    0.018905     0.0139507\n",
       " 0.00228158  -0.000750623  0.018905     0.0218409    0.0100824\n",
       " 0.00313015   0.00176713   0.0139507    0.0100824    0.00857217"
      ]
     },
     "execution_count": 21,
     "metadata": {},
     "output_type": "execute_result"
    }
   ],
   "source": [
    "# Model for May 2019 - May 2020\n",
    "\n",
    "# Import Libraries\n",
    "using JuMP\n",
    "import Ipopt, Statistics\n",
    "using CSV, DataFrames\n",
    "\n",
    "# Creating the dataset\n",
    "stock_data = [\n",
    "    120.38\t88.75\t137.45\t333.61\t96.95;\n",
    "    128.71\t94.68\t134.99\t357.53\t102.29;\n",
    "    120.34\t93.34\t137.05\t335.10\t106.14;\n",
    "    118.62\t88.81\t125.84\t357.61\t101.23;\n",
    "    120.46\t86.80\t133.35\t376.03\t108.44;\n",
    "    122.94\t88.83\t129.1\t335.94\t115.11;\n",
    "    128.01\t90.04\t129.55\t361.90\t122.38;\n",
    "    136.76\t92.39\t129.38\t323.83\t129.48;\n",
    "    139.57\t100.44\t115.65\t316.39\t122.94;\n",
    "    126.08\t94.19\t106.9\t273.48\t108.54;\n",
    "    123.72\t97.49\t48.38\t149.14\t84.16;\n",
    "    141.56\t123.70\t58.88\t141.02\t89.52;\n",
    "    140.35\t122.12\t51.67\t145.85\t91.91;\n",
    "]\n",
    "\n",
    "# Calculate monthly returns\n",
    "stock_returns = Array{Float64}(undef, 12, 5) \n",
    "\n",
    "for i in 1:12 \n",
    "    stock_returns[i, :] = (stock_data[i + 1, :] .- stock_data[i, :]) ./ stock_data[i, :] \n",
    "end \n",
    "\n",
    "# Obtain the random variable r denoting returns, and the covariance matrix, Q.\n",
    "r = Statistics.mean(stock_returns, dims = 1)\n",
    "Q = Statistics.cov(stock_returns)\n",
    "\n",
    "# Solvers\n",
    "# Ipopt Optimizer\n",
    "portfolio = Model(Ipopt.Optimizer)\n",
    "\n",
    "#Suppress unnecessary output, while solver works through different combinations#\n",
    "set_silent(portfolio)\n",
    "\n",
    "#Objective function & and constraints#\n",
    "@variable(portfolio, x[1:5] >= 0)\n",
    "@objective(portfolio, Min, x' * Q * x)\n",
    "@constraint(portfolio, sum(x) <= 10000)\n",
    "@constraint(portfolio, sum(r[i] * x[i] for i = 1:5) >= 500)\n",
    "optimize!(portfolio)\n",
    "\n",
    "#Solutions\n",
    "println(\"Objective Value : \", objective_value(portfolio))\n",
    "println(\"Amount of money to put in stocks => \")\n",
    "println(value.(x))\n",
    "println(\"Covariance Data Table\")\n",
    "Q"
   ]
  },
  {
   "cell_type": "code",
   "execution_count": 22,
   "id": "be300837",
   "metadata": {},
   "outputs": [
    {
     "data": {
      "text/plain": [
       "12×5 Matrix{Float64}:\n",
       "  0.0691975    0.0668169  -0.0178974    0.0717005   0.0550799\n",
       " -0.0650299   -0.0141529   0.0152604   -0.062736    0.0376381\n",
       " -0.0142928   -0.0485322  -0.081795     0.067174   -0.0462597\n",
       "  0.0155117   -0.0226326   0.059679     0.0515086   0.0712239\n",
       "  0.0205877    0.0233871  -0.031871    -0.106614    0.0615087\n",
       "  0.0412396    0.0136215   0.00348567   0.0772757   0.063157\n",
       "  0.068354     0.0260995  -0.00131223  -0.105195    0.058016\n",
       "  0.0205469    0.0871306  -0.106122    -0.022975   -0.0505097\n",
       " -0.096654    -0.0622262  -0.0756593   -0.135624   -0.11713\n",
       " -0.0187183    0.0350356  -0.547428    -0.454658   -0.224618\n",
       "  0.144197     0.268848    0.217032    -0.0544455   0.0636882\n",
       " -0.00854761  -0.0127728  -0.122452     0.0342505   0.0266979"
      ]
     },
     "execution_count": 22,
     "metadata": {},
     "output_type": "execute_result"
    }
   ],
   "source": [
    "stock_returns"
   ]
  },
  {
   "cell_type": "code",
   "execution_count": 23,
   "id": "84dcf276",
   "metadata": {},
   "outputs": [
    {
     "name": "stdout",
     "output_type": "stream",
     "text": [
      "Objective Value : 1.0865897740231182e6\n",
      "Amount of money to put in stocks => \n",
      "[-3.2962404996796986e-9, 10000.00010003024, -8.96018551296015e-9, -9.282507061787792e-9, -9.224404490266573e-9]\n",
      "Covariance Data Table\n"
     ]
    },
    {
     "data": {
      "text/plain": [
       "5×5 Matrix{Float64}:\n",
       " 0.00295843  0.00280301  0.00202183  0.00229678  0.00286726\n",
       " 0.00280301  0.0108659   0.00245071  0.00252034  0.00445196\n",
       " 0.00202183  0.00245071  0.00286942  0.00173626  0.00129281\n",
       " 0.00229678  0.00252034  0.00173626  0.0096357   0.0035468\n",
       " 0.00286726  0.00445196  0.00129281  0.0035468   0.00552421"
      ]
     },
     "execution_count": 23,
     "metadata": {},
     "output_type": "execute_result"
    }
   ],
   "source": [
    "# Model for May 2018 - May 2019\n",
    "\n",
    "# Import Libraries\n",
    "using JuMP\n",
    "import Ipopt, Statistics\n",
    "using CSV, DataFrames\n",
    "\n",
    "# Creating the dataset\n",
    "stock_data = [\n",
    "    106.87\t81.48\t129.76\t337.26\t95.2;\n",
    "    109.21\t84.99\t139.6\t322.92\t92.7;\n",
    "    119.27\t88.87\t144.54\t342.93\t102.26;\n",
    "    121.23\t100.64\t150.13\t329.92\t102.48;\n",
    "    125.19\t100.15\t146.63\t359.71\t100.93;\n",
    "    126.84\t79.90\t152.25\t343.23\t97.51;\n",
    "    133.10\t84.51\t154.05\t335.40\t100.15;\n",
    "    117.67\t75.10\t140.87\t313.37\t87.93;\n",
    "    121.34\t85.94\t152.72\t374.71\t93.22;\n",
    "    124.59\t81.99\t151.91\t427.51\t94.76;\n",
    "    128.31\t89.04\t154.51\t372.49\t91.92;\n",
    "    129.60\t96.33\t147.29\t368.84\t105.38;\n",
    "    120.38\t88.75\t137.45\t333.61\t96.95;\n",
    "]\n",
    "\n",
    "# Calculate monthly returns\n",
    "stock_returns = Array{Float64}(undef, 12, 5) \n",
    "\n",
    "for i in 1:12 \n",
    "    stock_returns[i, :] = (stock_data[i + 1, :] .- stock_data[i, :]) ./ stock_data[i, :] \n",
    "end \n",
    "\n",
    "# Obtain the random variable r denoting returns, and the covariance matrix, Q.\n",
    "r = Statistics.mean(stock_returns, dims = 1)\n",
    "Q = Statistics.cov(stock_returns)\n",
    "\n",
    "# Solvers\n",
    "# Ipopt Optimizer\n",
    "portfolio = Model(Ipopt.Optimizer)\n",
    "\n",
    "#Suppress unnecessary output, while solver works through different combinations#\n",
    "set_silent(portfolio)\n",
    "\n",
    "#Objective function & and constraints#\n",
    "@variable(portfolio, x[1:5] >= 0)\n",
    "@objective(portfolio, Min, x' * Q * x)\n",
    "@constraint(portfolio, sum(x) <= 10000)\n",
    "@constraint(portfolio, sum(r[i] * x[i] for i = 1:5) >= 500)\n",
    "optimize!(portfolio)\n",
    "\n",
    "#Solutions\n",
    "println(\"Objective Value : \", objective_value(portfolio))\n",
    "println(\"Amount of money to put in stocks => \")\n",
    "println(value.(x))\n",
    "println(\"Covariance Data Table\")\n",
    "Q"
   ]
  },
  {
   "cell_type": "code",
   "execution_count": 24,
   "id": "4a7a1c1f",
   "metadata": {},
   "outputs": [
    {
     "data": {
      "text/plain": [
       "12×5 Matrix{Float64}:\n",
       "  0.0218958   0.0430781    0.0758323   -0.0425191   -0.0262605\n",
       "  0.0921161   0.0456524    0.0353868    0.0619658    0.103128\n",
       "  0.0164333   0.132441     0.0386744   -0.0379378    0.00215138\n",
       "  0.0326652  -0.00486884  -0.0233131    0.0902946   -0.0151249\n",
       "  0.01318    -0.202197     0.0383278   -0.0458147   -0.0338849\n",
       "  0.0493535   0.0576971    0.0118227   -0.0228127    0.0270741\n",
       " -0.115928   -0.111348    -0.0855566   -0.0656828   -0.122017\n",
       "  0.0311889   0.144341     0.0841201    0.195743     0.0601615\n",
       "  0.0267842  -0.0459623   -0.00530382   0.140909     0.0165201\n",
       "  0.0298579   0.0859861    0.0171154   -0.128699    -0.0299705\n",
       "  0.0100538   0.0818733   -0.0467284   -0.00979892   0.146432\n",
       " -0.071142   -0.0786878   -0.066807    -0.0955157   -0.0799962"
      ]
     },
     "execution_count": 24,
     "metadata": {},
     "output_type": "execute_result"
    }
   ],
   "source": [
    "stock_returns"
   ]
  }
 ],
 "metadata": {
  "kernelspec": {
   "display_name": "Julia 1.7.2",
   "language": "julia",
   "name": "julia-1.7"
  },
  "language_info": {
   "file_extension": ".jl",
   "mimetype": "application/julia",
   "name": "julia",
   "version": "1.7.2"
  }
 },
 "nbformat": 4,
 "nbformat_minor": 5
}
